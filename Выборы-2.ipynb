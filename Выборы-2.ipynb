{
  "cells": [
    {
      "cell_type": "markdown",
      "source": [
        "## **О проекте: Анализ выборов приздента России 2024.**\n",
        "\n",
        "Проект посвящён анализу факторов, повлиявших на результатыт кандидатов на выборах на конкретных учасках или в регионах, а следовательно и на результат выборов в целом. А также представление удобной и красивой визулизации результатов выборов по регионам."
      ],
      "metadata": {
        "id": "sBvp9aaA-zPf"
      }
    },
    {
      "cell_type": "markdown",
      "source": [
        "#   0. Скачивание и установка необходимых библиотек."
      ],
      "metadata": {
        "id": "wjFNiEFwDkg5"
      }
    },
    {
      "cell_type": "code",
      "source": [
        "!pip install streamlit_folium\n"
      ],
      "metadata": {
        "colab": {
          "base_uri": "https://localhost:8080/"
        },
        "id": "iu901AKvRJty",
        "outputId": "ce346b0d-6db9-4394-ab3b-db78d877f153"
      },
      "execution_count": 96,
      "outputs": [
        {
          "output_type": "stream",
          "name": "stdout",
          "text": [
            "Requirement already satisfied: streamlit_folium in /usr/local/lib/python3.10/dist-packages (0.20.0)\n",
            "Requirement already satisfied: streamlit>=1.13.0 in /usr/local/lib/python3.10/dist-packages (from streamlit_folium) (1.35.0)\n",
            "Requirement already satisfied: folium!=0.15.0,>=0.13 in /usr/local/lib/python3.10/dist-packages (from streamlit_folium) (0.14.0)\n",
            "Requirement already satisfied: jinja2 in /usr/local/lib/python3.10/dist-packages (from streamlit_folium) (3.1.4)\n",
            "Requirement already satisfied: branca in /usr/local/lib/python3.10/dist-packages (from streamlit_folium) (0.7.2)\n",
            "Requirement already satisfied: numpy in /usr/local/lib/python3.10/dist-packages (from folium!=0.15.0,>=0.13->streamlit_folium) (1.25.2)\n",
            "Requirement already satisfied: requests in /usr/local/lib/python3.10/dist-packages (from folium!=0.15.0,>=0.13->streamlit_folium) (2.31.0)\n",
            "Requirement already satisfied: MarkupSafe>=2.0 in /usr/local/lib/python3.10/dist-packages (from jinja2->streamlit_folium) (2.1.5)\n",
            "Requirement already satisfied: altair<6,>=4.0 in /usr/local/lib/python3.10/dist-packages (from streamlit>=1.13.0->streamlit_folium) (4.2.2)\n",
            "Requirement already satisfied: blinker<2,>=1.0.0 in /usr/lib/python3/dist-packages (from streamlit>=1.13.0->streamlit_folium) (1.4)\n",
            "Requirement already satisfied: cachetools<6,>=4.0 in /usr/local/lib/python3.10/dist-packages (from streamlit>=1.13.0->streamlit_folium) (5.3.3)\n",
            "Requirement already satisfied: click<9,>=7.0 in /usr/local/lib/python3.10/dist-packages (from streamlit>=1.13.0->streamlit_folium) (8.1.7)\n",
            "Requirement already satisfied: packaging<25,>=16.8 in /usr/local/lib/python3.10/dist-packages (from streamlit>=1.13.0->streamlit_folium) (24.0)\n",
            "Requirement already satisfied: pandas<3,>=1.3.0 in /usr/local/lib/python3.10/dist-packages (from streamlit>=1.13.0->streamlit_folium) (2.0.3)\n",
            "Requirement already satisfied: pillow<11,>=7.1.0 in /usr/local/lib/python3.10/dist-packages (from streamlit>=1.13.0->streamlit_folium) (9.4.0)\n",
            "Requirement already satisfied: protobuf<5,>=3.20 in /usr/local/lib/python3.10/dist-packages (from streamlit>=1.13.0->streamlit_folium) (3.20.3)\n",
            "Requirement already satisfied: pyarrow>=7.0 in /usr/local/lib/python3.10/dist-packages (from streamlit>=1.13.0->streamlit_folium) (14.0.2)\n",
            "Requirement already satisfied: rich<14,>=10.14.0 in /usr/local/lib/python3.10/dist-packages (from streamlit>=1.13.0->streamlit_folium) (13.7.1)\n",
            "Requirement already satisfied: tenacity<9,>=8.1.0 in /usr/local/lib/python3.10/dist-packages (from streamlit>=1.13.0->streamlit_folium) (8.3.0)\n",
            "Requirement already satisfied: toml<2,>=0.10.1 in /usr/local/lib/python3.10/dist-packages (from streamlit>=1.13.0->streamlit_folium) (0.10.2)\n",
            "Requirement already satisfied: typing-extensions<5,>=4.3.0 in /usr/local/lib/python3.10/dist-packages (from streamlit>=1.13.0->streamlit_folium) (4.12.1)\n",
            "Requirement already satisfied: gitpython!=3.1.19,<4,>=3.0.7 in /usr/local/lib/python3.10/dist-packages (from streamlit>=1.13.0->streamlit_folium) (3.1.43)\n",
            "Requirement already satisfied: pydeck<1,>=0.8.0b4 in /usr/local/lib/python3.10/dist-packages (from streamlit>=1.13.0->streamlit_folium) (0.9.1)\n",
            "Requirement already satisfied: tornado<7,>=6.0.3 in /usr/local/lib/python3.10/dist-packages (from streamlit>=1.13.0->streamlit_folium) (6.3.3)\n",
            "Requirement already satisfied: watchdog>=2.1.5 in /usr/local/lib/python3.10/dist-packages (from streamlit>=1.13.0->streamlit_folium) (4.0.1)\n",
            "Requirement already satisfied: entrypoints in /usr/local/lib/python3.10/dist-packages (from altair<6,>=4.0->streamlit>=1.13.0->streamlit_folium) (0.4)\n",
            "Requirement already satisfied: jsonschema>=3.0 in /usr/local/lib/python3.10/dist-packages (from altair<6,>=4.0->streamlit>=1.13.0->streamlit_folium) (4.19.2)\n",
            "Requirement already satisfied: toolz in /usr/local/lib/python3.10/dist-packages (from altair<6,>=4.0->streamlit>=1.13.0->streamlit_folium) (0.12.1)\n",
            "Requirement already satisfied: gitdb<5,>=4.0.1 in /usr/local/lib/python3.10/dist-packages (from gitpython!=3.1.19,<4,>=3.0.7->streamlit>=1.13.0->streamlit_folium) (4.0.11)\n",
            "Requirement already satisfied: python-dateutil>=2.8.2 in /usr/local/lib/python3.10/dist-packages (from pandas<3,>=1.3.0->streamlit>=1.13.0->streamlit_folium) (2.8.2)\n",
            "Requirement already satisfied: pytz>=2020.1 in /usr/local/lib/python3.10/dist-packages (from pandas<3,>=1.3.0->streamlit>=1.13.0->streamlit_folium) (2023.4)\n",
            "Requirement already satisfied: tzdata>=2022.1 in /usr/local/lib/python3.10/dist-packages (from pandas<3,>=1.3.0->streamlit>=1.13.0->streamlit_folium) (2024.1)\n",
            "Requirement already satisfied: charset-normalizer<4,>=2 in /usr/local/lib/python3.10/dist-packages (from requests->folium!=0.15.0,>=0.13->streamlit_folium) (3.3.2)\n",
            "Requirement already satisfied: idna<4,>=2.5 in /usr/local/lib/python3.10/dist-packages (from requests->folium!=0.15.0,>=0.13->streamlit_folium) (3.7)\n",
            "Requirement already satisfied: urllib3<3,>=1.21.1 in /usr/local/lib/python3.10/dist-packages (from requests->folium!=0.15.0,>=0.13->streamlit_folium) (2.0.7)\n",
            "Requirement already satisfied: certifi>=2017.4.17 in /usr/local/lib/python3.10/dist-packages (from requests->folium!=0.15.0,>=0.13->streamlit_folium) (2024.6.2)\n",
            "Requirement already satisfied: markdown-it-py>=2.2.0 in /usr/local/lib/python3.10/dist-packages (from rich<14,>=10.14.0->streamlit>=1.13.0->streamlit_folium) (3.0.0)\n",
            "Requirement already satisfied: pygments<3.0.0,>=2.13.0 in /usr/local/lib/python3.10/dist-packages (from rich<14,>=10.14.0->streamlit>=1.13.0->streamlit_folium) (2.16.1)\n",
            "Requirement already satisfied: smmap<6,>=3.0.1 in /usr/local/lib/python3.10/dist-packages (from gitdb<5,>=4.0.1->gitpython!=3.1.19,<4,>=3.0.7->streamlit>=1.13.0->streamlit_folium) (5.0.1)\n",
            "Requirement already satisfied: attrs>=22.2.0 in /usr/local/lib/python3.10/dist-packages (from jsonschema>=3.0->altair<6,>=4.0->streamlit>=1.13.0->streamlit_folium) (23.2.0)\n",
            "Requirement already satisfied: jsonschema-specifications>=2023.03.6 in /usr/local/lib/python3.10/dist-packages (from jsonschema>=3.0->altair<6,>=4.0->streamlit>=1.13.0->streamlit_folium) (2023.12.1)\n",
            "Requirement already satisfied: referencing>=0.28.4 in /usr/local/lib/python3.10/dist-packages (from jsonschema>=3.0->altair<6,>=4.0->streamlit>=1.13.0->streamlit_folium) (0.35.1)\n",
            "Requirement already satisfied: rpds-py>=0.7.1 in /usr/local/lib/python3.10/dist-packages (from jsonschema>=3.0->altair<6,>=4.0->streamlit>=1.13.0->streamlit_folium) (0.18.1)\n",
            "Requirement already satisfied: mdurl~=0.1 in /usr/local/lib/python3.10/dist-packages (from markdown-it-py>=2.2.0->rich<14,>=10.14.0->streamlit>=1.13.0->streamlit_folium) (0.1.2)\n",
            "Requirement already satisfied: six>=1.5 in /usr/local/lib/python3.10/dist-packages (from python-dateutil>=2.8.2->pandas<3,>=1.3.0->streamlit>=1.13.0->streamlit_folium) (1.16.0)\n"
          ]
        }
      ]
    },
    {
      "cell_type": "code",
      "execution_count": 97,
      "metadata": {
        "id": "ykO-1HyW0lpA"
      },
      "outputs": [],
      "source": [
        "import pandas as pd\n",
        "import geopandas as gpd\n",
        "import matplotlib as mpl\n",
        "import matplotlib.pyplot as plt\n",
        "import folium\n",
        "from folium.plugins import HeatMap\n",
        "import seaborn as sns\n",
        "import requests\n",
        "from streamlit_folium import st_folium\n",
        "import streamlit as st\n",
        "import sqlite3\n",
        "from bs4 import BeautifulSoup\n",
        "import numpy as np\n",
        "import ipywidgets\n",
        "from sklearn.model_selection import train_test_split\n",
        "from sklearn.linear_model import LinearRegression\n",
        "from sklearn.metrics import mean_squared_error, r2_score\n"
      ]
    },
    {
      "cell_type": "code",
      "source": [],
      "metadata": {
        "id": "uvIWmenpMA5G"
      },
      "execution_count": 97,
      "outputs": []
    },
    {
      "cell_type": "markdown",
      "source": [
        "# **1. Загрузка данных.**"
      ],
      "metadata": {
        "id": "cKiKbk8uF1qm"
      }
    },
    {
      "cell_type": "markdown",
      "source": [
        "## Результаты выборов по ДЭГ, территориальным избирательным комиссиям и участковым избирательным комиссиям."
      ],
      "metadata": {
        "id": "KlEJImumMAXh"
      }
    },
    {
      "cell_type": "code",
      "execution_count": 100,
      "metadata": {
        "id": "D3cBdpNplO1K"
      },
      "outputs": [],
      "source": [
        "elections_tik = pd.read_csv('/content/drive/MyDrive/Project/results-tik-20240325T0416UTC.tsv',sep='\\t')\n",
        "elections_uik = pd.read_csv('/content/drive/MyDrive/Project/results-uik-20240325T0139UTC.tsv',sep='\\t')\n",
        "elections_deg = pd.read_csv('/content/drive/MyDrive/Project/results-deg-20240325T0428UTC.tsv',sep='\\t')\n",
        "\n"
      ]
    },
    {
      "cell_type": "markdown",
      "source": [
        "## Парсинг данных о ВРП на душу населения россйиских регионов с сайта Росстата.\n",
        " Загрузка страницы сайта"
      ],
      "metadata": {
        "id": "IoHMoBQQMCGc"
      }
    },
    {
      "cell_type": "code",
      "source": [
        "page_url = \"https://rosstat.gov.ru/storage/mediabank/Reg_Rus_Pokaz_2023.htm\"\n",
        "\n",
        "# Define headers to mimic a browser request\n",
        "headers = {\n",
        "    \"User-Agent\": \"Mozilla/5.0 (Windows NT 10.0; Win64; x64) AppleWebKit/537.36 (KHTML, like Gecko) Chrome/91.0.4472.124 Safari/537.36\",\n",
        "    \"Accept-Language\": \"en-US,en;q=0.9\",\n",
        "    \"Accept-Encoding\": \"gzip, deflate, br\",\n",
        "    \"Connection\": \"keep-alive\"\n",
        "}\n",
        "\n",
        "# Fetch the HTML content of the page\n",
        "response = requests.get(page_url, headers=headers)\n",
        "response.raise_for_status()"
      ],
      "metadata": {
        "id": "VlAltmp5tILn",
        "colab": {
          "base_uri": "https://localhost:8080/",
          "height": 537
        },
        "outputId": "efb9ba59-24e0-4e48-a08b-9c0cd1be5312"
      },
      "execution_count": 101,
      "outputs": [
        {
          "output_type": "error",
          "ename": "ConnectionError",
          "evalue": "('Connection aborted.', ConnectionResetError(104, 'Connection reset by peer'))",
          "traceback": [
            "\u001b[0;31m---------------------------------------------------------------------------\u001b[0m",
            "\u001b[0;31mConnectionResetError\u001b[0m                      Traceback (most recent call last)",
            "\u001b[0;32m/usr/local/lib/python3.10/dist-packages/urllib3/connectionpool.py\u001b[0m in \u001b[0;36murlopen\u001b[0;34m(self, method, url, body, headers, retries, redirect, assert_same_host, timeout, pool_timeout, release_conn, chunked, body_pos, preload_content, decode_content, **response_kw)\u001b[0m\n\u001b[1;32m    790\u001b[0m             \u001b[0;31m# Make the request on the HTTPConnection object\u001b[0m\u001b[0;34m\u001b[0m\u001b[0;34m\u001b[0m\u001b[0m\n\u001b[0;32m--> 791\u001b[0;31m             response = self._make_request(\n\u001b[0m\u001b[1;32m    792\u001b[0m                 \u001b[0mconn\u001b[0m\u001b[0;34m,\u001b[0m\u001b[0;34m\u001b[0m\u001b[0;34m\u001b[0m\u001b[0m\n",
            "\u001b[0;32m/usr/local/lib/python3.10/dist-packages/urllib3/connectionpool.py\u001b[0m in \u001b[0;36m_make_request\u001b[0;34m(self, conn, method, url, body, headers, retries, timeout, chunked, response_conn, preload_content, decode_content, enforce_content_length)\u001b[0m\n\u001b[1;32m    491\u001b[0m                 \u001b[0mnew_e\u001b[0m \u001b[0;34m=\u001b[0m \u001b[0m_wrap_proxy_error\u001b[0m\u001b[0;34m(\u001b[0m\u001b[0mnew_e\u001b[0m\u001b[0;34m,\u001b[0m \u001b[0mconn\u001b[0m\u001b[0;34m.\u001b[0m\u001b[0mproxy\u001b[0m\u001b[0;34m.\u001b[0m\u001b[0mscheme\u001b[0m\u001b[0;34m)\u001b[0m\u001b[0;34m\u001b[0m\u001b[0;34m\u001b[0m\u001b[0m\n\u001b[0;32m--> 492\u001b[0;31m             \u001b[0;32mraise\u001b[0m \u001b[0mnew_e\u001b[0m\u001b[0;34m\u001b[0m\u001b[0;34m\u001b[0m\u001b[0m\n\u001b[0m\u001b[1;32m    493\u001b[0m \u001b[0;34m\u001b[0m\u001b[0m\n",
            "\u001b[0;32m/usr/local/lib/python3.10/dist-packages/urllib3/connectionpool.py\u001b[0m in \u001b[0;36m_make_request\u001b[0;34m(self, conn, method, url, body, headers, retries, timeout, chunked, response_conn, preload_content, decode_content, enforce_content_length)\u001b[0m\n\u001b[1;32m    467\u001b[0m             \u001b[0;32mtry\u001b[0m\u001b[0;34m:\u001b[0m\u001b[0;34m\u001b[0m\u001b[0;34m\u001b[0m\u001b[0m\n\u001b[0;32m--> 468\u001b[0;31m                 \u001b[0mself\u001b[0m\u001b[0;34m.\u001b[0m\u001b[0m_validate_conn\u001b[0m\u001b[0;34m(\u001b[0m\u001b[0mconn\u001b[0m\u001b[0;34m)\u001b[0m\u001b[0;34m\u001b[0m\u001b[0;34m\u001b[0m\u001b[0m\n\u001b[0m\u001b[1;32m    469\u001b[0m             \u001b[0;32mexcept\u001b[0m \u001b[0;34m(\u001b[0m\u001b[0mSocketTimeout\u001b[0m\u001b[0;34m,\u001b[0m \u001b[0mBaseSSLError\u001b[0m\u001b[0;34m)\u001b[0m \u001b[0;32mas\u001b[0m \u001b[0me\u001b[0m\u001b[0;34m:\u001b[0m\u001b[0;34m\u001b[0m\u001b[0;34m\u001b[0m\u001b[0m\n",
            "\u001b[0;32m/usr/local/lib/python3.10/dist-packages/urllib3/connectionpool.py\u001b[0m in \u001b[0;36m_validate_conn\u001b[0;34m(self, conn)\u001b[0m\n\u001b[1;32m   1096\u001b[0m         \u001b[0;32mif\u001b[0m \u001b[0mconn\u001b[0m\u001b[0;34m.\u001b[0m\u001b[0mis_closed\u001b[0m\u001b[0;34m:\u001b[0m\u001b[0;34m\u001b[0m\u001b[0;34m\u001b[0m\u001b[0m\n\u001b[0;32m-> 1097\u001b[0;31m             \u001b[0mconn\u001b[0m\u001b[0;34m.\u001b[0m\u001b[0mconnect\u001b[0m\u001b[0;34m(\u001b[0m\u001b[0;34m)\u001b[0m\u001b[0;34m\u001b[0m\u001b[0;34m\u001b[0m\u001b[0m\n\u001b[0m\u001b[1;32m   1098\u001b[0m \u001b[0;34m\u001b[0m\u001b[0m\n",
            "\u001b[0;32m/usr/local/lib/python3.10/dist-packages/urllib3/connection.py\u001b[0m in \u001b[0;36mconnect\u001b[0;34m(self)\u001b[0m\n\u001b[1;32m    641\u001b[0m \u001b[0;34m\u001b[0m\u001b[0m\n\u001b[0;32m--> 642\u001b[0;31m         sock_and_verified = _ssl_wrap_socket_and_match_hostname(\n\u001b[0m\u001b[1;32m    643\u001b[0m             \u001b[0msock\u001b[0m\u001b[0;34m=\u001b[0m\u001b[0msock\u001b[0m\u001b[0;34m,\u001b[0m\u001b[0;34m\u001b[0m\u001b[0;34m\u001b[0m\u001b[0m\n",
            "\u001b[0;32m/usr/local/lib/python3.10/dist-packages/urllib3/connection.py\u001b[0m in \u001b[0;36m_ssl_wrap_socket_and_match_hostname\u001b[0;34m(sock, cert_reqs, ssl_version, ssl_minimum_version, ssl_maximum_version, cert_file, key_file, key_password, ca_certs, ca_cert_dir, ca_cert_data, assert_hostname, assert_fingerprint, server_hostname, ssl_context, tls_in_tls)\u001b[0m\n\u001b[1;32m    782\u001b[0m \u001b[0;34m\u001b[0m\u001b[0m\n\u001b[0;32m--> 783\u001b[0;31m     ssl_sock = ssl_wrap_socket(\n\u001b[0m\u001b[1;32m    784\u001b[0m         \u001b[0msock\u001b[0m\u001b[0;34m=\u001b[0m\u001b[0msock\u001b[0m\u001b[0;34m,\u001b[0m\u001b[0;34m\u001b[0m\u001b[0;34m\u001b[0m\u001b[0m\n",
            "\u001b[0;32m/usr/local/lib/python3.10/dist-packages/urllib3/util/ssl_.py\u001b[0m in \u001b[0;36mssl_wrap_socket\u001b[0;34m(sock, keyfile, certfile, cert_reqs, ca_certs, server_hostname, ssl_version, ciphers, ssl_context, ca_cert_dir, key_password, ca_cert_data, tls_in_tls)\u001b[0m\n\u001b[1;32m    470\u001b[0m \u001b[0;34m\u001b[0m\u001b[0m\n\u001b[0;32m--> 471\u001b[0;31m     \u001b[0mssl_sock\u001b[0m \u001b[0;34m=\u001b[0m \u001b[0m_ssl_wrap_socket_impl\u001b[0m\u001b[0;34m(\u001b[0m\u001b[0msock\u001b[0m\u001b[0;34m,\u001b[0m \u001b[0mcontext\u001b[0m\u001b[0;34m,\u001b[0m \u001b[0mtls_in_tls\u001b[0m\u001b[0;34m,\u001b[0m \u001b[0mserver_hostname\u001b[0m\u001b[0;34m)\u001b[0m\u001b[0;34m\u001b[0m\u001b[0;34m\u001b[0m\u001b[0m\n\u001b[0m\u001b[1;32m    472\u001b[0m     \u001b[0;32mreturn\u001b[0m \u001b[0mssl_sock\u001b[0m\u001b[0;34m\u001b[0m\u001b[0;34m\u001b[0m\u001b[0m\n",
            "\u001b[0;32m/usr/local/lib/python3.10/dist-packages/urllib3/util/ssl_.py\u001b[0m in \u001b[0;36m_ssl_wrap_socket_impl\u001b[0;34m(sock, ssl_context, tls_in_tls, server_hostname)\u001b[0m\n\u001b[1;32m    514\u001b[0m \u001b[0;34m\u001b[0m\u001b[0m\n\u001b[0;32m--> 515\u001b[0;31m     \u001b[0;32mreturn\u001b[0m \u001b[0mssl_context\u001b[0m\u001b[0;34m.\u001b[0m\u001b[0mwrap_socket\u001b[0m\u001b[0;34m(\u001b[0m\u001b[0msock\u001b[0m\u001b[0;34m,\u001b[0m \u001b[0mserver_hostname\u001b[0m\u001b[0;34m=\u001b[0m\u001b[0mserver_hostname\u001b[0m\u001b[0;34m)\u001b[0m\u001b[0;34m\u001b[0m\u001b[0;34m\u001b[0m\u001b[0m\n\u001b[0m",
            "\u001b[0;32m/usr/lib/python3.10/ssl.py\u001b[0m in \u001b[0;36mwrap_socket\u001b[0;34m(self, sock, server_side, do_handshake_on_connect, suppress_ragged_eofs, server_hostname, session)\u001b[0m\n\u001b[1;32m    512\u001b[0m         \u001b[0;31m# ctx._wrap_socket()\u001b[0m\u001b[0;34m\u001b[0m\u001b[0;34m\u001b[0m\u001b[0m\n\u001b[0;32m--> 513\u001b[0;31m         return self.sslsocket_class._create(\n\u001b[0m\u001b[1;32m    514\u001b[0m             \u001b[0msock\u001b[0m\u001b[0;34m=\u001b[0m\u001b[0msock\u001b[0m\u001b[0;34m,\u001b[0m\u001b[0;34m\u001b[0m\u001b[0;34m\u001b[0m\u001b[0m\n",
            "\u001b[0;32m/usr/lib/python3.10/ssl.py\u001b[0m in \u001b[0;36m_create\u001b[0;34m(cls, sock, server_side, do_handshake_on_connect, suppress_ragged_eofs, server_hostname, context, session)\u001b[0m\n\u001b[1;32m   1099\u001b[0m                         \u001b[0;32mraise\u001b[0m \u001b[0mValueError\u001b[0m\u001b[0;34m(\u001b[0m\u001b[0;34m\"do_handshake_on_connect should not be specified for non-blocking sockets\"\u001b[0m\u001b[0;34m)\u001b[0m\u001b[0;34m\u001b[0m\u001b[0;34m\u001b[0m\u001b[0m\n\u001b[0;32m-> 1100\u001b[0;31m                     \u001b[0mself\u001b[0m\u001b[0;34m.\u001b[0m\u001b[0mdo_handshake\u001b[0m\u001b[0;34m(\u001b[0m\u001b[0;34m)\u001b[0m\u001b[0;34m\u001b[0m\u001b[0;34m\u001b[0m\u001b[0m\n\u001b[0m\u001b[1;32m   1101\u001b[0m             \u001b[0;32mexcept\u001b[0m \u001b[0;34m(\u001b[0m\u001b[0mOSError\u001b[0m\u001b[0;34m,\u001b[0m \u001b[0mValueError\u001b[0m\u001b[0;34m)\u001b[0m\u001b[0;34m:\u001b[0m\u001b[0;34m\u001b[0m\u001b[0;34m\u001b[0m\u001b[0m\n",
            "\u001b[0;32m/usr/lib/python3.10/ssl.py\u001b[0m in \u001b[0;36mdo_handshake\u001b[0;34m(self, block)\u001b[0m\n\u001b[1;32m   1370\u001b[0m                 \u001b[0mself\u001b[0m\u001b[0;34m.\u001b[0m\u001b[0msettimeout\u001b[0m\u001b[0;34m(\u001b[0m\u001b[0;32mNone\u001b[0m\u001b[0;34m)\u001b[0m\u001b[0;34m\u001b[0m\u001b[0;34m\u001b[0m\u001b[0m\n\u001b[0;32m-> 1371\u001b[0;31m             \u001b[0mself\u001b[0m\u001b[0;34m.\u001b[0m\u001b[0m_sslobj\u001b[0m\u001b[0;34m.\u001b[0m\u001b[0mdo_handshake\u001b[0m\u001b[0;34m(\u001b[0m\u001b[0;34m)\u001b[0m\u001b[0;34m\u001b[0m\u001b[0;34m\u001b[0m\u001b[0m\n\u001b[0m\u001b[1;32m   1372\u001b[0m         \u001b[0;32mfinally\u001b[0m\u001b[0;34m:\u001b[0m\u001b[0;34m\u001b[0m\u001b[0;34m\u001b[0m\u001b[0m\n",
            "\u001b[0;31mConnectionResetError\u001b[0m: [Errno 104] Connection reset by peer",
            "\nDuring handling of the above exception, another exception occurred:\n",
            "\u001b[0;31mProtocolError\u001b[0m                             Traceback (most recent call last)",
            "\u001b[0;32m/usr/local/lib/python3.10/dist-packages/requests/adapters.py\u001b[0m in \u001b[0;36msend\u001b[0;34m(self, request, stream, timeout, verify, cert, proxies)\u001b[0m\n\u001b[1;32m    485\u001b[0m         \u001b[0;32mtry\u001b[0m\u001b[0;34m:\u001b[0m\u001b[0;34m\u001b[0m\u001b[0;34m\u001b[0m\u001b[0m\n\u001b[0;32m--> 486\u001b[0;31m             resp = conn.urlopen(\n\u001b[0m\u001b[1;32m    487\u001b[0m                 \u001b[0mmethod\u001b[0m\u001b[0;34m=\u001b[0m\u001b[0mrequest\u001b[0m\u001b[0;34m.\u001b[0m\u001b[0mmethod\u001b[0m\u001b[0;34m,\u001b[0m\u001b[0;34m\u001b[0m\u001b[0;34m\u001b[0m\u001b[0m\n",
            "\u001b[0;32m/usr/local/lib/python3.10/dist-packages/urllib3/connectionpool.py\u001b[0m in \u001b[0;36murlopen\u001b[0;34m(self, method, url, body, headers, retries, redirect, assert_same_host, timeout, pool_timeout, release_conn, chunked, body_pos, preload_content, decode_content, **response_kw)\u001b[0m\n\u001b[1;32m    844\u001b[0m \u001b[0;34m\u001b[0m\u001b[0m\n\u001b[0;32m--> 845\u001b[0;31m             retries = retries.increment(\n\u001b[0m\u001b[1;32m    846\u001b[0m                 \u001b[0mmethod\u001b[0m\u001b[0;34m,\u001b[0m \u001b[0murl\u001b[0m\u001b[0;34m,\u001b[0m \u001b[0merror\u001b[0m\u001b[0;34m=\u001b[0m\u001b[0mnew_e\u001b[0m\u001b[0;34m,\u001b[0m \u001b[0m_pool\u001b[0m\u001b[0;34m=\u001b[0m\u001b[0mself\u001b[0m\u001b[0;34m,\u001b[0m \u001b[0m_stacktrace\u001b[0m\u001b[0;34m=\u001b[0m\u001b[0msys\u001b[0m\u001b[0;34m.\u001b[0m\u001b[0mexc_info\u001b[0m\u001b[0;34m(\u001b[0m\u001b[0;34m)\u001b[0m\u001b[0;34m[\u001b[0m\u001b[0;36m2\u001b[0m\u001b[0;34m]\u001b[0m\u001b[0;34m\u001b[0m\u001b[0;34m\u001b[0m\u001b[0m\n",
            "\u001b[0;32m/usr/local/lib/python3.10/dist-packages/urllib3/util/retry.py\u001b[0m in \u001b[0;36mincrement\u001b[0;34m(self, method, url, response, error, _pool, _stacktrace)\u001b[0m\n\u001b[1;32m    469\u001b[0m             \u001b[0;32mif\u001b[0m \u001b[0mread\u001b[0m \u001b[0;32mis\u001b[0m \u001b[0;32mFalse\u001b[0m \u001b[0;32mor\u001b[0m \u001b[0mmethod\u001b[0m \u001b[0;32mis\u001b[0m \u001b[0;32mNone\u001b[0m \u001b[0;32mor\u001b[0m \u001b[0;32mnot\u001b[0m \u001b[0mself\u001b[0m\u001b[0;34m.\u001b[0m\u001b[0m_is_method_retryable\u001b[0m\u001b[0;34m(\u001b[0m\u001b[0mmethod\u001b[0m\u001b[0;34m)\u001b[0m\u001b[0;34m:\u001b[0m\u001b[0;34m\u001b[0m\u001b[0;34m\u001b[0m\u001b[0m\n\u001b[0;32m--> 470\u001b[0;31m                 \u001b[0;32mraise\u001b[0m \u001b[0mreraise\u001b[0m\u001b[0;34m(\u001b[0m\u001b[0mtype\u001b[0m\u001b[0;34m(\u001b[0m\u001b[0merror\u001b[0m\u001b[0;34m)\u001b[0m\u001b[0;34m,\u001b[0m \u001b[0merror\u001b[0m\u001b[0;34m,\u001b[0m \u001b[0m_stacktrace\u001b[0m\u001b[0;34m)\u001b[0m\u001b[0;34m\u001b[0m\u001b[0;34m\u001b[0m\u001b[0m\n\u001b[0m\u001b[1;32m    471\u001b[0m             \u001b[0;32melif\u001b[0m \u001b[0mread\u001b[0m \u001b[0;32mis\u001b[0m \u001b[0;32mnot\u001b[0m \u001b[0;32mNone\u001b[0m\u001b[0;34m:\u001b[0m\u001b[0;34m\u001b[0m\u001b[0;34m\u001b[0m\u001b[0m\n",
            "\u001b[0;32m/usr/local/lib/python3.10/dist-packages/urllib3/util/util.py\u001b[0m in \u001b[0;36mreraise\u001b[0;34m(tp, value, tb)\u001b[0m\n\u001b[1;32m     37\u001b[0m         \u001b[0;32mif\u001b[0m \u001b[0mvalue\u001b[0m\u001b[0;34m.\u001b[0m\u001b[0m__traceback__\u001b[0m \u001b[0;32mis\u001b[0m \u001b[0;32mnot\u001b[0m \u001b[0mtb\u001b[0m\u001b[0;34m:\u001b[0m\u001b[0;34m\u001b[0m\u001b[0;34m\u001b[0m\u001b[0m\n\u001b[0;32m---> 38\u001b[0;31m             \u001b[0;32mraise\u001b[0m \u001b[0mvalue\u001b[0m\u001b[0;34m.\u001b[0m\u001b[0mwith_traceback\u001b[0m\u001b[0;34m(\u001b[0m\u001b[0mtb\u001b[0m\u001b[0;34m)\u001b[0m\u001b[0;34m\u001b[0m\u001b[0;34m\u001b[0m\u001b[0m\n\u001b[0m\u001b[1;32m     39\u001b[0m         \u001b[0;32mraise\u001b[0m \u001b[0mvalue\u001b[0m\u001b[0;34m\u001b[0m\u001b[0;34m\u001b[0m\u001b[0m\n",
            "\u001b[0;32m/usr/local/lib/python3.10/dist-packages/urllib3/connectionpool.py\u001b[0m in \u001b[0;36murlopen\u001b[0;34m(self, method, url, body, headers, retries, redirect, assert_same_host, timeout, pool_timeout, release_conn, chunked, body_pos, preload_content, decode_content, **response_kw)\u001b[0m\n\u001b[1;32m    790\u001b[0m             \u001b[0;31m# Make the request on the HTTPConnection object\u001b[0m\u001b[0;34m\u001b[0m\u001b[0;34m\u001b[0m\u001b[0m\n\u001b[0;32m--> 791\u001b[0;31m             response = self._make_request(\n\u001b[0m\u001b[1;32m    792\u001b[0m                 \u001b[0mconn\u001b[0m\u001b[0;34m,\u001b[0m\u001b[0;34m\u001b[0m\u001b[0;34m\u001b[0m\u001b[0m\n",
            "\u001b[0;32m/usr/local/lib/python3.10/dist-packages/urllib3/connectionpool.py\u001b[0m in \u001b[0;36m_make_request\u001b[0;34m(self, conn, method, url, body, headers, retries, timeout, chunked, response_conn, preload_content, decode_content, enforce_content_length)\u001b[0m\n\u001b[1;32m    491\u001b[0m                 \u001b[0mnew_e\u001b[0m \u001b[0;34m=\u001b[0m \u001b[0m_wrap_proxy_error\u001b[0m\u001b[0;34m(\u001b[0m\u001b[0mnew_e\u001b[0m\u001b[0;34m,\u001b[0m \u001b[0mconn\u001b[0m\u001b[0;34m.\u001b[0m\u001b[0mproxy\u001b[0m\u001b[0;34m.\u001b[0m\u001b[0mscheme\u001b[0m\u001b[0;34m)\u001b[0m\u001b[0;34m\u001b[0m\u001b[0;34m\u001b[0m\u001b[0m\n\u001b[0;32m--> 492\u001b[0;31m             \u001b[0;32mraise\u001b[0m \u001b[0mnew_e\u001b[0m\u001b[0;34m\u001b[0m\u001b[0;34m\u001b[0m\u001b[0m\n\u001b[0m\u001b[1;32m    493\u001b[0m \u001b[0;34m\u001b[0m\u001b[0m\n",
            "\u001b[0;32m/usr/local/lib/python3.10/dist-packages/urllib3/connectionpool.py\u001b[0m in \u001b[0;36m_make_request\u001b[0;34m(self, conn, method, url, body, headers, retries, timeout, chunked, response_conn, preload_content, decode_content, enforce_content_length)\u001b[0m\n\u001b[1;32m    467\u001b[0m             \u001b[0;32mtry\u001b[0m\u001b[0;34m:\u001b[0m\u001b[0;34m\u001b[0m\u001b[0;34m\u001b[0m\u001b[0m\n\u001b[0;32m--> 468\u001b[0;31m                 \u001b[0mself\u001b[0m\u001b[0;34m.\u001b[0m\u001b[0m_validate_conn\u001b[0m\u001b[0;34m(\u001b[0m\u001b[0mconn\u001b[0m\u001b[0;34m)\u001b[0m\u001b[0;34m\u001b[0m\u001b[0;34m\u001b[0m\u001b[0m\n\u001b[0m\u001b[1;32m    469\u001b[0m             \u001b[0;32mexcept\u001b[0m \u001b[0;34m(\u001b[0m\u001b[0mSocketTimeout\u001b[0m\u001b[0;34m,\u001b[0m \u001b[0mBaseSSLError\u001b[0m\u001b[0;34m)\u001b[0m \u001b[0;32mas\u001b[0m \u001b[0me\u001b[0m\u001b[0;34m:\u001b[0m\u001b[0;34m\u001b[0m\u001b[0;34m\u001b[0m\u001b[0m\n",
            "\u001b[0;32m/usr/local/lib/python3.10/dist-packages/urllib3/connectionpool.py\u001b[0m in \u001b[0;36m_validate_conn\u001b[0;34m(self, conn)\u001b[0m\n\u001b[1;32m   1096\u001b[0m         \u001b[0;32mif\u001b[0m \u001b[0mconn\u001b[0m\u001b[0;34m.\u001b[0m\u001b[0mis_closed\u001b[0m\u001b[0;34m:\u001b[0m\u001b[0;34m\u001b[0m\u001b[0;34m\u001b[0m\u001b[0m\n\u001b[0;32m-> 1097\u001b[0;31m             \u001b[0mconn\u001b[0m\u001b[0;34m.\u001b[0m\u001b[0mconnect\u001b[0m\u001b[0;34m(\u001b[0m\u001b[0;34m)\u001b[0m\u001b[0;34m\u001b[0m\u001b[0;34m\u001b[0m\u001b[0m\n\u001b[0m\u001b[1;32m   1098\u001b[0m \u001b[0;34m\u001b[0m\u001b[0m\n",
            "\u001b[0;32m/usr/local/lib/python3.10/dist-packages/urllib3/connection.py\u001b[0m in \u001b[0;36mconnect\u001b[0;34m(self)\u001b[0m\n\u001b[1;32m    641\u001b[0m \u001b[0;34m\u001b[0m\u001b[0m\n\u001b[0;32m--> 642\u001b[0;31m         sock_and_verified = _ssl_wrap_socket_and_match_hostname(\n\u001b[0m\u001b[1;32m    643\u001b[0m             \u001b[0msock\u001b[0m\u001b[0;34m=\u001b[0m\u001b[0msock\u001b[0m\u001b[0;34m,\u001b[0m\u001b[0;34m\u001b[0m\u001b[0;34m\u001b[0m\u001b[0m\n",
            "\u001b[0;32m/usr/local/lib/python3.10/dist-packages/urllib3/connection.py\u001b[0m in \u001b[0;36m_ssl_wrap_socket_and_match_hostname\u001b[0;34m(sock, cert_reqs, ssl_version, ssl_minimum_version, ssl_maximum_version, cert_file, key_file, key_password, ca_certs, ca_cert_dir, ca_cert_data, assert_hostname, assert_fingerprint, server_hostname, ssl_context, tls_in_tls)\u001b[0m\n\u001b[1;32m    782\u001b[0m \u001b[0;34m\u001b[0m\u001b[0m\n\u001b[0;32m--> 783\u001b[0;31m     ssl_sock = ssl_wrap_socket(\n\u001b[0m\u001b[1;32m    784\u001b[0m         \u001b[0msock\u001b[0m\u001b[0;34m=\u001b[0m\u001b[0msock\u001b[0m\u001b[0;34m,\u001b[0m\u001b[0;34m\u001b[0m\u001b[0;34m\u001b[0m\u001b[0m\n",
            "\u001b[0;32m/usr/local/lib/python3.10/dist-packages/urllib3/util/ssl_.py\u001b[0m in \u001b[0;36mssl_wrap_socket\u001b[0;34m(sock, keyfile, certfile, cert_reqs, ca_certs, server_hostname, ssl_version, ciphers, ssl_context, ca_cert_dir, key_password, ca_cert_data, tls_in_tls)\u001b[0m\n\u001b[1;32m    470\u001b[0m \u001b[0;34m\u001b[0m\u001b[0m\n\u001b[0;32m--> 471\u001b[0;31m     \u001b[0mssl_sock\u001b[0m \u001b[0;34m=\u001b[0m \u001b[0m_ssl_wrap_socket_impl\u001b[0m\u001b[0;34m(\u001b[0m\u001b[0msock\u001b[0m\u001b[0;34m,\u001b[0m \u001b[0mcontext\u001b[0m\u001b[0;34m,\u001b[0m \u001b[0mtls_in_tls\u001b[0m\u001b[0;34m,\u001b[0m \u001b[0mserver_hostname\u001b[0m\u001b[0;34m)\u001b[0m\u001b[0;34m\u001b[0m\u001b[0;34m\u001b[0m\u001b[0m\n\u001b[0m\u001b[1;32m    472\u001b[0m     \u001b[0;32mreturn\u001b[0m \u001b[0mssl_sock\u001b[0m\u001b[0;34m\u001b[0m\u001b[0;34m\u001b[0m\u001b[0m\n",
            "\u001b[0;32m/usr/local/lib/python3.10/dist-packages/urllib3/util/ssl_.py\u001b[0m in \u001b[0;36m_ssl_wrap_socket_impl\u001b[0;34m(sock, ssl_context, tls_in_tls, server_hostname)\u001b[0m\n\u001b[1;32m    514\u001b[0m \u001b[0;34m\u001b[0m\u001b[0m\n\u001b[0;32m--> 515\u001b[0;31m     \u001b[0;32mreturn\u001b[0m \u001b[0mssl_context\u001b[0m\u001b[0;34m.\u001b[0m\u001b[0mwrap_socket\u001b[0m\u001b[0;34m(\u001b[0m\u001b[0msock\u001b[0m\u001b[0;34m,\u001b[0m \u001b[0mserver_hostname\u001b[0m\u001b[0;34m=\u001b[0m\u001b[0mserver_hostname\u001b[0m\u001b[0;34m)\u001b[0m\u001b[0;34m\u001b[0m\u001b[0;34m\u001b[0m\u001b[0m\n\u001b[0m",
            "\u001b[0;32m/usr/lib/python3.10/ssl.py\u001b[0m in \u001b[0;36mwrap_socket\u001b[0;34m(self, sock, server_side, do_handshake_on_connect, suppress_ragged_eofs, server_hostname, session)\u001b[0m\n\u001b[1;32m    512\u001b[0m         \u001b[0;31m# ctx._wrap_socket()\u001b[0m\u001b[0;34m\u001b[0m\u001b[0;34m\u001b[0m\u001b[0m\n\u001b[0;32m--> 513\u001b[0;31m         return self.sslsocket_class._create(\n\u001b[0m\u001b[1;32m    514\u001b[0m             \u001b[0msock\u001b[0m\u001b[0;34m=\u001b[0m\u001b[0msock\u001b[0m\u001b[0;34m,\u001b[0m\u001b[0;34m\u001b[0m\u001b[0;34m\u001b[0m\u001b[0m\n",
            "\u001b[0;32m/usr/lib/python3.10/ssl.py\u001b[0m in \u001b[0;36m_create\u001b[0;34m(cls, sock, server_side, do_handshake_on_connect, suppress_ragged_eofs, server_hostname, context, session)\u001b[0m\n\u001b[1;32m   1099\u001b[0m                         \u001b[0;32mraise\u001b[0m \u001b[0mValueError\u001b[0m\u001b[0;34m(\u001b[0m\u001b[0;34m\"do_handshake_on_connect should not be specified for non-blocking sockets\"\u001b[0m\u001b[0;34m)\u001b[0m\u001b[0;34m\u001b[0m\u001b[0;34m\u001b[0m\u001b[0m\n\u001b[0;32m-> 1100\u001b[0;31m                     \u001b[0mself\u001b[0m\u001b[0;34m.\u001b[0m\u001b[0mdo_handshake\u001b[0m\u001b[0;34m(\u001b[0m\u001b[0;34m)\u001b[0m\u001b[0;34m\u001b[0m\u001b[0;34m\u001b[0m\u001b[0m\n\u001b[0m\u001b[1;32m   1101\u001b[0m             \u001b[0;32mexcept\u001b[0m \u001b[0;34m(\u001b[0m\u001b[0mOSError\u001b[0m\u001b[0;34m,\u001b[0m \u001b[0mValueError\u001b[0m\u001b[0;34m)\u001b[0m\u001b[0;34m:\u001b[0m\u001b[0;34m\u001b[0m\u001b[0;34m\u001b[0m\u001b[0m\n",
            "\u001b[0;32m/usr/lib/python3.10/ssl.py\u001b[0m in \u001b[0;36mdo_handshake\u001b[0;34m(self, block)\u001b[0m\n\u001b[1;32m   1370\u001b[0m                 \u001b[0mself\u001b[0m\u001b[0;34m.\u001b[0m\u001b[0msettimeout\u001b[0m\u001b[0;34m(\u001b[0m\u001b[0;32mNone\u001b[0m\u001b[0;34m)\u001b[0m\u001b[0;34m\u001b[0m\u001b[0;34m\u001b[0m\u001b[0m\n\u001b[0;32m-> 1371\u001b[0;31m             \u001b[0mself\u001b[0m\u001b[0;34m.\u001b[0m\u001b[0m_sslobj\u001b[0m\u001b[0;34m.\u001b[0m\u001b[0mdo_handshake\u001b[0m\u001b[0;34m(\u001b[0m\u001b[0;34m)\u001b[0m\u001b[0;34m\u001b[0m\u001b[0;34m\u001b[0m\u001b[0m\n\u001b[0m\u001b[1;32m   1372\u001b[0m         \u001b[0;32mfinally\u001b[0m\u001b[0;34m:\u001b[0m\u001b[0;34m\u001b[0m\u001b[0;34m\u001b[0m\u001b[0m\n",
            "\u001b[0;31mProtocolError\u001b[0m: ('Connection aborted.', ConnectionResetError(104, 'Connection reset by peer'))",
            "\nDuring handling of the above exception, another exception occurred:\n",
            "\u001b[0;31mConnectionError\u001b[0m                           Traceback (most recent call last)",
            "\u001b[0;32m<ipython-input-101-85931722ae14>\u001b[0m in \u001b[0;36m<cell line: 12>\u001b[0;34m()\u001b[0m\n\u001b[1;32m     10\u001b[0m \u001b[0;34m\u001b[0m\u001b[0m\n\u001b[1;32m     11\u001b[0m \u001b[0;31m# Fetch the HTML content of the page\u001b[0m\u001b[0;34m\u001b[0m\u001b[0;34m\u001b[0m\u001b[0m\n\u001b[0;32m---> 12\u001b[0;31m \u001b[0mresponse\u001b[0m \u001b[0;34m=\u001b[0m \u001b[0mrequests\u001b[0m\u001b[0;34m.\u001b[0m\u001b[0mget\u001b[0m\u001b[0;34m(\u001b[0m\u001b[0mpage_url\u001b[0m\u001b[0;34m,\u001b[0m \u001b[0mheaders\u001b[0m\u001b[0;34m=\u001b[0m\u001b[0mheaders\u001b[0m\u001b[0;34m)\u001b[0m\u001b[0;34m\u001b[0m\u001b[0;34m\u001b[0m\u001b[0m\n\u001b[0m\u001b[1;32m     13\u001b[0m \u001b[0mresponse\u001b[0m\u001b[0;34m.\u001b[0m\u001b[0mraise_for_status\u001b[0m\u001b[0;34m(\u001b[0m\u001b[0;34m)\u001b[0m\u001b[0;34m\u001b[0m\u001b[0;34m\u001b[0m\u001b[0m\n",
            "\u001b[0;32m/usr/local/lib/python3.10/dist-packages/requests/api.py\u001b[0m in \u001b[0;36mget\u001b[0;34m(url, params, **kwargs)\u001b[0m\n\u001b[1;32m     71\u001b[0m     \"\"\"\n\u001b[1;32m     72\u001b[0m \u001b[0;34m\u001b[0m\u001b[0m\n\u001b[0;32m---> 73\u001b[0;31m     \u001b[0;32mreturn\u001b[0m \u001b[0mrequest\u001b[0m\u001b[0;34m(\u001b[0m\u001b[0;34m\"get\"\u001b[0m\u001b[0;34m,\u001b[0m \u001b[0murl\u001b[0m\u001b[0;34m,\u001b[0m \u001b[0mparams\u001b[0m\u001b[0;34m=\u001b[0m\u001b[0mparams\u001b[0m\u001b[0;34m,\u001b[0m \u001b[0;34m**\u001b[0m\u001b[0mkwargs\u001b[0m\u001b[0;34m)\u001b[0m\u001b[0;34m\u001b[0m\u001b[0;34m\u001b[0m\u001b[0m\n\u001b[0m\u001b[1;32m     74\u001b[0m \u001b[0;34m\u001b[0m\u001b[0m\n\u001b[1;32m     75\u001b[0m \u001b[0;34m\u001b[0m\u001b[0m\n",
            "\u001b[0;32m/usr/local/lib/python3.10/dist-packages/requests/api.py\u001b[0m in \u001b[0;36mrequest\u001b[0;34m(method, url, **kwargs)\u001b[0m\n\u001b[1;32m     57\u001b[0m     \u001b[0;31m# cases, and look like a memory leak in others.\u001b[0m\u001b[0;34m\u001b[0m\u001b[0;34m\u001b[0m\u001b[0m\n\u001b[1;32m     58\u001b[0m     \u001b[0;32mwith\u001b[0m \u001b[0msessions\u001b[0m\u001b[0;34m.\u001b[0m\u001b[0mSession\u001b[0m\u001b[0;34m(\u001b[0m\u001b[0;34m)\u001b[0m \u001b[0;32mas\u001b[0m \u001b[0msession\u001b[0m\u001b[0;34m:\u001b[0m\u001b[0;34m\u001b[0m\u001b[0;34m\u001b[0m\u001b[0m\n\u001b[0;32m---> 59\u001b[0;31m         \u001b[0;32mreturn\u001b[0m \u001b[0msession\u001b[0m\u001b[0;34m.\u001b[0m\u001b[0mrequest\u001b[0m\u001b[0;34m(\u001b[0m\u001b[0mmethod\u001b[0m\u001b[0;34m=\u001b[0m\u001b[0mmethod\u001b[0m\u001b[0;34m,\u001b[0m \u001b[0murl\u001b[0m\u001b[0;34m=\u001b[0m\u001b[0murl\u001b[0m\u001b[0;34m,\u001b[0m \u001b[0;34m**\u001b[0m\u001b[0mkwargs\u001b[0m\u001b[0;34m)\u001b[0m\u001b[0;34m\u001b[0m\u001b[0;34m\u001b[0m\u001b[0m\n\u001b[0m\u001b[1;32m     60\u001b[0m \u001b[0;34m\u001b[0m\u001b[0m\n\u001b[1;32m     61\u001b[0m \u001b[0;34m\u001b[0m\u001b[0m\n",
            "\u001b[0;32m/usr/local/lib/python3.10/dist-packages/requests/sessions.py\u001b[0m in \u001b[0;36mrequest\u001b[0;34m(self, method, url, params, data, headers, cookies, files, auth, timeout, allow_redirects, proxies, hooks, stream, verify, cert, json)\u001b[0m\n\u001b[1;32m    587\u001b[0m         }\n\u001b[1;32m    588\u001b[0m         \u001b[0msend_kwargs\u001b[0m\u001b[0;34m.\u001b[0m\u001b[0mupdate\u001b[0m\u001b[0;34m(\u001b[0m\u001b[0msettings\u001b[0m\u001b[0;34m)\u001b[0m\u001b[0;34m\u001b[0m\u001b[0;34m\u001b[0m\u001b[0m\n\u001b[0;32m--> 589\u001b[0;31m         \u001b[0mresp\u001b[0m \u001b[0;34m=\u001b[0m \u001b[0mself\u001b[0m\u001b[0;34m.\u001b[0m\u001b[0msend\u001b[0m\u001b[0;34m(\u001b[0m\u001b[0mprep\u001b[0m\u001b[0;34m,\u001b[0m \u001b[0;34m**\u001b[0m\u001b[0msend_kwargs\u001b[0m\u001b[0;34m)\u001b[0m\u001b[0;34m\u001b[0m\u001b[0;34m\u001b[0m\u001b[0m\n\u001b[0m\u001b[1;32m    590\u001b[0m \u001b[0;34m\u001b[0m\u001b[0m\n\u001b[1;32m    591\u001b[0m         \u001b[0;32mreturn\u001b[0m \u001b[0mresp\u001b[0m\u001b[0;34m\u001b[0m\u001b[0;34m\u001b[0m\u001b[0m\n",
            "\u001b[0;32m/usr/local/lib/python3.10/dist-packages/requests/sessions.py\u001b[0m in \u001b[0;36msend\u001b[0;34m(self, request, **kwargs)\u001b[0m\n\u001b[1;32m    701\u001b[0m \u001b[0;34m\u001b[0m\u001b[0m\n\u001b[1;32m    702\u001b[0m         \u001b[0;31m# Send the request\u001b[0m\u001b[0;34m\u001b[0m\u001b[0;34m\u001b[0m\u001b[0m\n\u001b[0;32m--> 703\u001b[0;31m         \u001b[0mr\u001b[0m \u001b[0;34m=\u001b[0m \u001b[0madapter\u001b[0m\u001b[0;34m.\u001b[0m\u001b[0msend\u001b[0m\u001b[0;34m(\u001b[0m\u001b[0mrequest\u001b[0m\u001b[0;34m,\u001b[0m \u001b[0;34m**\u001b[0m\u001b[0mkwargs\u001b[0m\u001b[0;34m)\u001b[0m\u001b[0;34m\u001b[0m\u001b[0;34m\u001b[0m\u001b[0m\n\u001b[0m\u001b[1;32m    704\u001b[0m \u001b[0;34m\u001b[0m\u001b[0m\n\u001b[1;32m    705\u001b[0m         \u001b[0;31m# Total elapsed time of the request (approximately)\u001b[0m\u001b[0;34m\u001b[0m\u001b[0;34m\u001b[0m\u001b[0m\n",
            "\u001b[0;32m/usr/local/lib/python3.10/dist-packages/requests/adapters.py\u001b[0m in \u001b[0;36msend\u001b[0;34m(self, request, stream, timeout, verify, cert, proxies)\u001b[0m\n\u001b[1;32m    499\u001b[0m \u001b[0;34m\u001b[0m\u001b[0m\n\u001b[1;32m    500\u001b[0m         \u001b[0;32mexcept\u001b[0m \u001b[0;34m(\u001b[0m\u001b[0mProtocolError\u001b[0m\u001b[0;34m,\u001b[0m \u001b[0mOSError\u001b[0m\u001b[0;34m)\u001b[0m \u001b[0;32mas\u001b[0m \u001b[0merr\u001b[0m\u001b[0;34m:\u001b[0m\u001b[0;34m\u001b[0m\u001b[0;34m\u001b[0m\u001b[0m\n\u001b[0;32m--> 501\u001b[0;31m             \u001b[0;32mraise\u001b[0m \u001b[0mConnectionError\u001b[0m\u001b[0;34m(\u001b[0m\u001b[0merr\u001b[0m\u001b[0;34m,\u001b[0m \u001b[0mrequest\u001b[0m\u001b[0;34m=\u001b[0m\u001b[0mrequest\u001b[0m\u001b[0;34m)\u001b[0m\u001b[0;34m\u001b[0m\u001b[0;34m\u001b[0m\u001b[0m\n\u001b[0m\u001b[1;32m    502\u001b[0m \u001b[0;34m\u001b[0m\u001b[0m\n\u001b[1;32m    503\u001b[0m         \u001b[0;32mexcept\u001b[0m \u001b[0mMaxRetryError\u001b[0m \u001b[0;32mas\u001b[0m \u001b[0me\u001b[0m\u001b[0;34m:\u001b[0m\u001b[0;34m\u001b[0m\u001b[0;34m\u001b[0m\u001b[0m\n",
            "\u001b[0;31mConnectionError\u001b[0m: ('Connection aborted.', ConnectionResetError(104, 'Connection reset by peer'))"
          ]
        }
      ]
    },
    {
      "cell_type": "markdown",
      "source": [
        "Создаём дерево с помощью BeatifulSoup"
      ],
      "metadata": {
        "id": "VNludapZNbq2"
      }
    },
    {
      "cell_type": "code",
      "source": [
        "content = response.content\n",
        "tree = BeautifulSoup(content, 'html.parser')\n",
        "\n"
      ],
      "metadata": {
        "id": "N2d3rygwngPK"
      },
      "execution_count": null,
      "outputs": []
    },
    {
      "cell_type": "markdown",
      "source": [
        "Выделаем кусочки где, лежат ссылки"
      ],
      "metadata": {
        "id": "6MJOFgWTOrAx"
      }
    },
    {
      "cell_type": "code",
      "source": [
        "links = tree.find_all('a')"
      ],
      "metadata": {
        "id": "_aF_-jJwpk6K"
      },
      "execution_count": null,
      "outputs": []
    },
    {
      "cell_type": "markdown",
      "source": [
        "Находим как называется нужная нам ссылка"
      ],
      "metadata": {
        "id": "qicnSEo8OtVe"
      }
    },
    {
      "cell_type": "code",
      "source": [
        "links[18].text.strip()"
      ],
      "metadata": {
        "id": "2R9oNxm9VO8w"
      },
      "execution_count": null,
      "outputs": []
    },
    {
      "cell_type": "markdown",
      "source": [
        "Достаём ссылку"
      ],
      "metadata": {
        "id": "RRFkSNqBOxRB"
      }
    },
    {
      "cell_type": "code",
      "source": [
        "for link in links:\n",
        "    if link.text.strip() == 'Валовой\\r\\n    региональный продукт':\n",
        "        GRDP_link = link['href']\n",
        "        print(\"URL:\", link['href'])\n",
        "        break"
      ],
      "metadata": {
        "id": "OfjXDlkILV56"
      },
      "execution_count": null,
      "outputs": []
    },
    {
      "cell_type": "markdown",
      "source": [
        "Скачиваем файл"
      ],
      "metadata": {
        "id": "5PXUMgzmP52v"
      }
    },
    {
      "cell_type": "code",
      "source": [
        "GRDP = requests.get(GRDP_link, headers = headers)\n",
        "file_path = \"RR_pokaz_09_2023.xlsx\"\n",
        "with open(file_path, \"wb\") as file:\n",
        "    file.write(GRDP.content)\n",
        "sheet_name = \"9.2\"\n",
        "\n"
      ],
      "metadata": {
        "id": "90RvnwR5dmma"
      },
      "execution_count": null,
      "outputs": []
    },
    {
      "cell_type": "code",
      "source": [
        "GRDP = pd.read_excel(file_path, sheet_name=sheet_name)"
      ],
      "metadata": {
        "id": "zRZms87Fjxvj"
      },
      "execution_count": null,
      "outputs": []
    },
    {
      "cell_type": "markdown",
      "source": [
        "## Загрузка карт России и новых регионов."
      ],
      "metadata": {
        "id": "GJT4M-dkV_lZ"
      }
    },
    {
      "cell_type": "code",
      "execution_count": null,
      "metadata": {
        "id": "KDYN7ielmkCh"
      },
      "outputs": [],
      "source": [
        "gdf = gpd.read_file(\"/content/drive/MyDrive/Project/russia_regions-2.geojson\")\n"
      ]
    },
    {
      "cell_type": "code",
      "execution_count": null,
      "metadata": {
        "id": "I4hJih8Nkt_p"
      },
      "outputs": [],
      "source": [
        "LPR = gpd.read_file(\"/content/drive/MyDrive/Project/UA_09_Luhanska.geojson\")\n",
        "LPR.plot(figsize = (3,3))\n",
        "plt.show()\n",
        "DPR = gpd.read_file(\"/content/drive/MyDrive/Project/UA_14_Donetska.geojson\")\n",
        "DPR.plot(figsize = (3,3))\n",
        "plt.show()\n",
        "ZAP = gpd.read_file(\"/content/drive/MyDrive/Project/UA_23_Zaporizka.geojson\")\n",
        "ZAP.plot(figsize = (3,3))\n",
        "plt.show()\n",
        "KHE = gpd.read_file(\"/content/drive/MyDrive/Project/UA_65_Khersonska.geojson\")\n",
        "KHE.plot(figsize = (3,3))\n",
        "plt.show()\n"
      ]
    },
    {
      "cell_type": "markdown",
      "source": [
        "# 2. Подготовка данных"
      ],
      "metadata": {
        "id": "tPfQoQ0sP884"
      }
    },
    {
      "cell_type": "markdown",
      "source": [
        "Делаем регион индексом"
      ],
      "metadata": {
        "id": "kc3kSoACRGZd"
      }
    },
    {
      "cell_type": "code",
      "execution_count": null,
      "metadata": {
        "id": "h-55eQKNQXb9"
      },
      "outputs": [],
      "source": [
        "elections_deg.set_index('region', inplace=True, drop = True)\n",
        "elections_tik.set_index('region', inplace=True, drop = True)\n",
        "elections_uik.set_index('region', inplace=True, drop = True)"
      ]
    },
    {
      "cell_type": "markdown",
      "source": [
        "В данных по УИКам отсутствуют данные по новым регионам"
      ],
      "metadata": {
        "id": "WDetnZJeRKS4"
      }
    },
    {
      "cell_type": "code",
      "source": [
        "elections_uik[elections_uik['Число действительных избирательных бюллетеней'].isnull()]"
      ],
      "metadata": {
        "id": "H8Ylt0ruQ4Y1"
      },
      "execution_count": null,
      "outputs": []
    },
    {
      "cell_type": "markdown",
      "source": [
        "Избавляемся от пустых строк."
      ],
      "metadata": {
        "id": "8Zp-zjZ2RR6b"
      }
    },
    {
      "cell_type": "code",
      "execution_count": null,
      "metadata": {
        "id": "1tG9gjd68mXw"
      },
      "outputs": [],
      "source": [
        "elections_uik = elections_uik[elections_uik['Число действительных избирательных бюллетеней'].isnull() == 0]"
      ]
    },
    {
      "cell_type": "markdown",
      "source": [
        "Посчитаем явку на каждом из участков."
      ],
      "metadata": {
        "id": "6-dWC_7fXiX3"
      }
    },
    {
      "cell_type": "code",
      "source": [
        "elections_uik['Число выданных избирательных бюллетеней'] = elections_uik['Число избирательных бюллетеней, выданных избирателям, проголосовавшим досрочно'].add(elections_uik['Число избирательных бюллетеней, выданных в помещении для голосования в день голосования'])\n",
        "elections_uik['Число выданных избирательных бюллетеней'] = elections_uik['Число выданных избирательных бюллетеней'].add(elections_uik['Число избирательных бюллетеней, выданных вне помещения для голосования в день голосования'])\n",
        "elections_uik['явка (%)'] = elections_uik['Число выданных избирательных бюллетеней']/elections_uik['Число избирателей, включенных в список избирателей']*100"
      ],
      "metadata": {
        "id": "ramvIi4NAMRp"
      },
      "execution_count": null,
      "outputs": []
    },
    {
      "cell_type": "code",
      "execution_count": null,
      "metadata": {
        "id": "j1y7U0BeTfpj"
      },
      "outputs": [],
      "source": [
        "elections_uik"
      ]
    },
    {
      "cell_type": "markdown",
      "source": [
        "## Считаем результаты по регионам из данных по ТИКам(чтобы учесть данные по новым регионам)."
      ],
      "metadata": {
        "id": "mcZK_-W9X2y8"
      }
    },
    {
      "cell_type": "code",
      "execution_count": null,
      "metadata": {
        "id": "Kv-WSpmMFFH-"
      },
      "outputs": [],
      "source": [
        "regions = elections_tik.groupby('region')\n",
        "DAV = regions.sum()['Даванков Владислав Андреевич'].add(elections_deg['Даванков Владислав Андреевич'],fill_value = 0 ) / ((regions.sum()['Число действительных избирательных бюллетеней'].add(elections_deg['Число действительных избирательных бюллетеней'], fill_value = 0 ) ).add(elections_deg['Число недействительных избирательных бюллетеней'], fill_value = 0 )).add(regions.sum()['Число недействительных избирательных бюллетеней']) * 100\n",
        "PUT = regions.sum()['Путин Владимир Владимирович'].add(elections_deg['Путин Владимир Владимирович'], fill_value = 0 ) / ((regions.sum()['Число действительных избирательных бюллетеней'].add(elections_deg['Число действительных избирательных бюллетеней'], fill_value = 0 ) ).add(elections_deg['Число недействительных избирательных бюллетеней'], fill_value = 0 )).add(regions.sum()['Число недействительных избирательных бюллетеней']) * 100\n",
        "SLUT = regions.sum()['Слуцкий Леонид Эдуардович'].add(elections_deg['Слуцкий Леонид Эдуардович'], fill_value = 0 ) / ((regions.sum()['Число действительных избирательных бюллетеней'].add(elections_deg['Число действительных избирательных бюллетеней'], fill_value = 0 ) ).add(elections_deg['Число недействительных избирательных бюллетеней'], fill_value = 0 )).add(regions.sum()['Число недействительных избирательных бюллетеней']) * 100\n",
        "KCH = regions.sum()['Харитонов Николай Михайлович'].add(elections_deg['Харитонов Николай Михайлович (%)'], fill_value = 0) / ((regions.sum()['Число действительных избирательных бюллетеней'].add(elections_deg['Число действительных избирательных бюллетеней'], fill_value = 0 ) ).add(elections_deg['Число недействительных избирательных бюллетеней'], fill_value = 0 )).add(regions.sum()['Число недействительных избирательных бюллетеней']) * 100\n"
      ]
    },
    {
      "cell_type": "code",
      "execution_count": null,
      "metadata": {
        "id": "j8C31KPeBM2q"
      },
      "outputs": [],
      "source": [
        "DAV = pd.DataFrame(DAV)\n",
        "DAV = DAV.rename( columns = {0:'Даванков Владислав Андреевич (%)'})\n",
        "PUT = pd.DataFrame(PUT)\n",
        "PUT = PUT.rename( columns = {0:'Путин Владимир Владимирович (%)'})\n",
        "SLUT = pd.DataFrame(SLUT)\n",
        "SLUT = SLUT.rename( columns = {0:'Слуцкий Леонид Эдуардович (%)'})\n",
        "KCH = pd.DataFrame(KCH)\n",
        "KCH = KCH.rename( columns = {0:'Харитонов Николай Михайлович (%)'})\n",
        "elections_reg = pd.merge(DAV , PUT, left_index=True, right_index=True)\n",
        "elections_reg = pd.merge( elections_reg , SLUT, left_index=True, right_index=True )\n",
        "elections_reg = pd.merge( elections_reg , KCH, left_index=True, right_index=True )\n",
        "\n"
      ]
    },
    {
      "cell_type": "markdown",
      "source": [
        "## Добавялем донные о ВРП на душу населения к данным по УИКам"
      ],
      "metadata": {
        "id": "uHKOU7ZpZy8W"
      }
    },
    {
      "cell_type": "markdown",
      "source": [
        "Структура загруженного документа"
      ],
      "metadata": {
        "id": "99xX-BTaatGw"
      }
    },
    {
      "cell_type": "code",
      "source": [
        "GRDP"
      ],
      "metadata": {
        "id": "JoVzfmH4gueA"
      },
      "execution_count": null,
      "outputs": []
    },
    {
      "cell_type": "markdown",
      "source": [
        "Убираем ненужные колонки"
      ],
      "metadata": {
        "id": "k9TfJmSrayYj"
      }
    },
    {
      "cell_type": "code",
      "source": [
        "GRDP = GRDP.drop( columns = ['Unnamed: 1', 'Unnamed: 2', 'Unnamed: 3', 'Unnamed: 4', 'Unnamed: 5'])"
      ],
      "metadata": {
        "id": "Yi_V_aMYfTjo"
      },
      "execution_count": null,
      "outputs": []
    },
    {
      "cell_type": "markdown",
      "source": [
        "Переименовываем колонки, для удобства работы."
      ],
      "metadata": {
        "id": "D6Mz6tUGbADj"
      }
    },
    {
      "cell_type": "markdown",
      "source": [],
      "metadata": {
        "id": "ulb2AgLRbDWt"
      }
    },
    {
      "cell_type": "code",
      "source": [
        "GRDP.rename(columns={'9.2. ВАЛОВОЙ РЕГИОНАЛЬНЫЙ ПРОДУКТ на душу населения1) \\n(рублей)': 'region', 'Unnamed: 6' : 'GRDP'}, inplace=True)"
      ],
      "metadata": {
        "id": "YXWSk2tchQpy"
      },
      "execution_count": null,
      "outputs": []
    },
    {
      "cell_type": "markdown",
      "source": [
        "Убираем неинформативные строки."
      ],
      "metadata": {
        "id": "WA3R6pTRbFCQ"
      }
    },
    {
      "cell_type": "code",
      "source": [
        "GRDP.drop(index=[0, 99], inplace=True)"
      ],
      "metadata": {
        "id": "GKxF4rKTh-b9"
      },
      "execution_count": null,
      "outputs": []
    },
    {
      "cell_type": "markdown",
      "source": [
        "Приводим в соответвие названия регионов в разных данных."
      ],
      "metadata": {
        "id": "pFDMyoz2bW1Y"
      }
    },
    {
      "cell_type": "code",
      "source": [
        "GRDP.loc[GRDP['region'] == 'Республика Адыгея', 'region'] = 'Республика Адыгея (Адыгея)'\n",
        "GRDP.loc[GRDP['region'] == 'Республика Татарстан', 'region'] = 'Республика Татарстан (Татарстан)'\n",
        "GRDP.loc[GRDP['region'] == 'Чувашская Республика', 'region'] = 'Чувашская Республика - Чувашия'\n",
        "GRDP.loc[GRDP['region'] == 'Республика Северная Осетия – Алания', 'region'] = 'Республика Северная Осетия - Алания'\n",
        "GRDP.loc[GRDP['region'] == 'Ханты-Мансийский автономный  округ – Югра', 'region'] = 'Ханты-Мансийский автономный округ - Югра'\n",
        "GRDP.loc[GRDP['region'] == 'г. Москва', 'region'] = 'город Москва'\n",
        "GRDP.loc[GRDP['region'] == 'г. Санкт-Петербург', 'region'] = 'город Санкт-Петербург'\n",
        "GRDP.loc[GRDP['region'] == 'г. Севастополь', 'region'] = 'город Севастополь'\n",
        "GRDP.loc[GRDP['region'] == 'Кемеровская область', 'region'] = 'Кемеровская область - Кузбасс'"
      ],
      "metadata": {
        "id": "fAHZeWKVzZ40"
      },
      "execution_count": null,
      "outputs": []
    },
    {
      "cell_type": "markdown",
      "source": [
        "Новая структура датафрейма"
      ],
      "metadata": {
        "id": "s9Iiw3lQbuOx"
      }
    },
    {
      "cell_type": "code",
      "source": [
        "GRDP"
      ],
      "metadata": {
        "id": "34zEJc8ejKcA"
      },
      "execution_count": null,
      "outputs": []
    },
    {
      "cell_type": "markdown",
      "source": [
        "Добавляем данные о ВРП в данные по УИКам"
      ],
      "metadata": {
        "id": "ur2J-HQPf0a6"
      }
    },
    {
      "cell_type": "code",
      "source": [
        "elections_uik = pd.merge(elections_uik, GRDP, on='region', how='left')"
      ],
      "metadata": {
        "id": "DO9qR3hSLtuw"
      },
      "execution_count": null,
      "outputs": []
    },
    {
      "cell_type": "markdown",
      "source": [
        "Проверяем, смогли ли мы исправить все регионы (новых регионов в данных по ВРП нету)."
      ],
      "metadata": {
        "id": "KueTg6VbbyXE"
      }
    },
    {
      "cell_type": "code",
      "source": [
        "GRDP.set_index('region', inplace=True, drop = True)"
      ],
      "metadata": {
        "id": "gro5sCpxhuGp"
      },
      "execution_count": null,
      "outputs": []
    },
    {
      "cell_type": "code",
      "source": [
        "unique_indices = elections_reg.index.difference(GRDP.index)\n",
        "unique_indices"
      ],
      "metadata": {
        "id": "vFyGu41qEyaY"
      },
      "execution_count": null,
      "outputs": []
    },
    {
      "cell_type": "markdown",
      "source": [],
      "metadata": {
        "id": "Pi_sWFY7g6Pr"
      }
    },
    {
      "cell_type": "markdown",
      "source": [
        "## Создание карты с новыми регионами"
      ],
      "metadata": {
        "id": "EPhbDdj7hgog"
      }
    },
    {
      "cell_type": "markdown",
      "source": [
        "Структура данных с новыми регионами"
      ],
      "metadata": {
        "id": "3uAfBw2OiGk5"
      }
    },
    {
      "cell_type": "code",
      "execution_count": null,
      "metadata": {
        "id": "3hO0-Iwp3MSF"
      },
      "outputs": [],
      "source": [
        "LPR"
      ]
    },
    {
      "cell_type": "markdown",
      "source": [
        "Приводим в соответствие названия новых регионов с данными о выборах"
      ],
      "metadata": {
        "id": "DCyETwmFiKqD"
      }
    },
    {
      "cell_type": "code",
      "execution_count": null,
      "metadata": {
        "id": "2VTz-kCB_1aW"
      },
      "outputs": [],
      "source": [
        "#Fixing new regions\n",
        "LPR['name'][0] = 'Луганская Народная Республика'\n",
        "LPR = LPR.rename( columns = {'name': 'region'})\n",
        "LPR.set_index('region', inplace = True, drop = True)\n",
        "\n",
        "DPR['name'][0] = 'Донецкая Народная Республика'\n",
        "DPR = DPR.rename( columns = {'name': 'region'})\n",
        "DPR.set_index('region', inplace = True, drop = True)\n",
        "\n",
        "ZAP['name'][0] = 'Запорожская область'\n",
        "ZAP = ZAP.rename( columns = {'name': 'region'})\n",
        "ZAP.set_index('region', inplace = True, drop = True)\n",
        "\n",
        "KHE['name'][0] = 'Херсонская область'\n",
        "KHE = KHE.rename( columns = {'name': 'region'})\n",
        "KHE.set_index('region', inplace = True, drop = True)"
      ]
    },
    {
      "cell_type": "markdown",
      "source": [
        "Приводим в соответствие названия старых регионов на карте и в данных о выборах"
      ],
      "metadata": {
        "id": "Fe5ymnqLiTjG"
      }
    },
    {
      "cell_type": "code",
      "execution_count": null,
      "metadata": {
        "id": "QIG6ZWwiJbBU"
      },
      "outputs": [],
      "source": [
        "# Fixing old regions\n",
        "gdf.loc[gdf['region'] == 'Республика Адыгея', 'region'] = 'Республика Адыгея (Адыгея)'\n",
        "gdf.loc[gdf['region'] == 'Республика Татарстан', 'region'] = 'Республика Татарстан (Татарстан)'\n",
        "gdf.loc[gdf['region'] == 'Чувашская Республика', 'region'] = 'Чувашская Республика - Чувашия'\n",
        "gdf.loc[gdf['region'] == 'Республика Северная Осетия — Алания', 'region'] = 'Республика Северная Осетия - Алания'\n",
        "gdf.loc[gdf['region'] == 'Ханты-Мансийский автономный округ — Югра', 'region'] = 'Ханты-Мансийский автономный округ - Югра'\n",
        "gdf.loc[gdf['region'] == 'Москва', 'region'] = 'город Москва'\n",
        "gdf.loc[gdf['region'] == 'Санкт-Петербург', 'region'] = 'город Санкт-Петербург'\n",
        "gdf.loc[gdf['region'] == 'Севастополь', 'region'] = 'город Севастополь'\n",
        "gdf.loc[gdf['region'] == 'Кемеровская область', 'region'] = 'Кемеровская область - Кузбасс'\n",
        "\n",
        "\n"
      ]
    },
    {
      "cell_type": "markdown",
      "source": [
        "Задаём регион как индекс"
      ],
      "metadata": {
        "id": "atHOMkZCiiNa"
      }
    },
    {
      "cell_type": "code",
      "execution_count": null,
      "metadata": {
        "id": "5PJeuGMVfzZN"
      },
      "outputs": [],
      "source": [
        "gdf.set_index('region', inplace=True, drop = True)"
      ]
    },
    {
      "cell_type": "markdown",
      "source": [
        "Объединяем всё файлы в однку карту."
      ],
      "metadata": {
        "id": "VM36SghLil_D"
      }
    },
    {
      "cell_type": "code",
      "execution_count": null,
      "metadata": {
        "id": "VZzTwEoA0HL1"
      },
      "outputs": [],
      "source": [
        "SVO = pd.concat([LPR,DPR])\n",
        "SVO = pd.concat([SVO,KHE])\n",
        "SVO = pd.concat([SVO,ZAP])\n",
        "SVO = pd.concat([SVO,gdf])"
      ]
    },
    {
      "cell_type": "markdown",
      "source": [
        "# 3. Проверка Гипотез."
      ],
      "metadata": {
        "id": "WZLisup2jWxP"
      }
    },
    {
      "cell_type": "markdown",
      "source": [
        "## Гипотеза №1.\n",
        "Протестное Голосование."
      ],
      "metadata": {
        "id": "2RP6DjFckBx5"
      }
    },
    {
      "cell_type": "markdown",
      "source": [
        "На протестных участках людям было принципиально лишь проголосовать за кого-либо, кроме президента.\n",
        "Следовательно, на участках, на которых, люди больше голосовали за одного из кандидатов альтернативных президенту они больше голосовали и за других."
      ],
      "metadata": {
        "id": "pdnsTxpQkNEu"
      }
    },
    {
      "cell_type": "markdown",
      "source": [
        "Считаем корреляцию, рисуем скаттер плот и регрессию."
      ],
      "metadata": {
        "id": "bbI8_qItv8cs"
      }
    },
    {
      "cell_type": "code",
      "execution_count": null,
      "metadata": {
        "id": "RyAFy5WnDktS"
      },
      "outputs": [],
      "source": [
        " def trend ( candidat1 , candidat2, type ):\n",
        "  if type == 'uik':\n",
        "    plt.scatter( elections_uik[f'{candidat1} (%)'] , elections_uik[f'{candidat2} (%)'] )\n",
        "    sns.regplot(x = f'{candidat1} (%)' , y = f'{candidat2} (%)' , data = elections_uik, scatter = False, color = 'red')\n",
        "    plt.xlim(0 , 100)\n",
        "    plt.ylim(0 , 100)\n",
        "    plt.show()\n",
        "    correl = elections_tik[f'{candidat1} (%)'].corr(elections_tik[f'{candidat2} (%)'] )\n",
        "    print(correl)\n",
        "  if type == 'tik':\n",
        "    plt.scatter( elections_tik[f'{candidat1} (%)'] , elections_tik[f'{candidat2} (%)'] )\n",
        "    sns.regplot(x = f'{candidat1} (%)' , y = f'{candidat2} (%)' , data = elections_tik, scatter = False, color = 'red')\n",
        "    plt.xlim(0 , 100)\n",
        "    plt.ylim(0 , 100)\n",
        "    plt.show()\n",
        "    correl = elections_tik[f'{candidat1} (%)'].corr(elections_tik[f'{candidat2} (%)'] )\n",
        "    print(correl)\n",
        "  if type == 'reg':\n",
        "    plt.scatter( elections_reg[f'{candidat1} (%)'] , elections_reg[f'{candidat2} (%)'] )\n",
        "    sns.regplot(x = f'{candidat1} (%)' , y = f'{candidat2} (%)' , data = elections_reg, scatter = False, color = 'red')\n",
        "    plt.xlim(0 , 100)\n",
        "    plt.ylim(0 , 100)\n",
        "    plt.show()\n",
        "    correl = elections_reg[f'{candidat1} (%)'].corr(elections_reg[f'{candidat2} (%)'] )\n",
        "    print(correl)\n",
        "\n",
        "\n",
        "\n"
      ]
    },
    {
      "cell_type": "markdown",
      "source": [
        "Кнопки, выбирающие двух кандидатов и территриальную еденицу. ТИК/регион или УИК"
      ],
      "metadata": {
        "id": "Zm9oh-ExwED9"
      }
    },
    {
      "cell_type": "code",
      "execution_count": null,
      "metadata": {
        "id": "OdhJ0iAOcEFj"
      },
      "outputs": [],
      "source": [
        "\n",
        "candidat_selector1 = ipywidgets.Dropdown(\n",
        "    options=('Путин Владимир Владимирович', 'Даванков Владислав Андреевич', 'Слуцкий Леонид Эдуардович', 'Харитонов Николай Михайлович'),\n",
        "    index=0,\n",
        "    value='Путин Владимир Владимирович',\n",
        "    layout={'width': '700px'},\n",
        "    continuous_update = False\n",
        ")\n",
        "candidat_selector2 = ipywidgets.Dropdown(\n",
        "    options=('Путин Владимир Владимирович', 'Даванков Владислав Андреевич', 'Слуцкий Леонид Эдуардович', 'Харитонов Николай Михайлович'),\n",
        "    index=0,\n",
        "    value='Путин Владимир Владимирович',\n",
        "    layout={'width': '700px'},\n",
        "    continuous_update = False\n",
        ")\n",
        "candidat_selector3 = ipywidgets.Dropdown(\n",
        "    options=('tik', 'uik', 'reg'),\n",
        "    index=0,\n",
        "    value='tik',\n",
        "    layout={'width': '700px'},\n",
        "    continuous_update = False\n",
        ")\n",
        "ipywidgets.interact(\n",
        "    trend, candidat1 = candidat_selector1, candidat2 = candidat_selector2, type = candidat_selector3\n",
        ")"
      ]
    },
    {
      "cell_type": "markdown",
      "source": [
        "Как мы видим, корреляция между результатами всех оппозиционных кандиадатов положительна. Корреляция же между результатми В. В. Путина и резльтатми оппозиционных кандидатов отрицательна.\n",
        "Можно считать значение противоположное корреляцит с результатами президента, как коэффициэнт оппозиционности кандидата в глазах общества.\n",
        "Выходит коэффициэнт оппозиционности Даванкова: 0.95;\n",
        "Харитонова: 0.22; Слуцкого: 0.24(по УИКам)."
      ],
      "metadata": {
        "id": "nru8ncdumCHH"
      }
    },
    {
      "cell_type": "markdown",
      "source": [
        "## Гипотеза № 2\n",
        "Пила Памчурова?"
      ],
      "metadata": {
        "id": "Xtnd6KFHnAEj"
      }
    },
    {
      "cell_type": "markdown",
      "source": [
        "На российских выборах в относительно недалеком прошлом имел место феномен \"Пилы Чурова\". На большом числе участков по странному совпадению результаты были круглые. В данной части я проверю имеет ли место подобный феномен на выборах 2024 года."
      ],
      "metadata": {
        "id": "jmtG2Qdcn87W"
      }
    },
    {
      "cell_type": "code",
      "source": [
        "def Churov (candidat1):\n",
        "  plt.figure(figsize=(15, 6))\n",
        "  plt.hist(elections_uik[f'{candidat1} (%)'], bins=10000, range=(0, 100), edgecolor='black')\n",
        "  plt.title('Частота появления каждого значения от 0 до 100')\n",
        "  plt.xlabel('Значения')\n",
        "  plt.ylabel('Частота')\n",
        "  plt.grid(True)\n",
        "  plt.show()\n"
      ],
      "metadata": {
        "id": "hdm6Xij6m-Xe"
      },
      "execution_count": null,
      "outputs": []
    },
    {
      "cell_type": "code",
      "source": [
        "def Suspicious_values(candidat):\n",
        "  value_counts = elections_uik[f'{candidat} (%)'].value_counts()\n",
        "  frequent_values = value_counts[value_counts > 300].index\n",
        "  filtered_df = elections_uik[elections_uik[f'{candidat} (%)'].isin(frequent_values)]\n",
        "  filtered_df = filtered_df[filtered_df[f'{candidat} (%)']!=0]\n",
        "\n",
        "  return filtered_df"
      ],
      "metadata": {
        "id": "6SMufDH8tUuW"
      },
      "execution_count": null,
      "outputs": []
    },
    {
      "cell_type": "code",
      "source": [
        "Churov('Путин Владимир Владимирович')"
      ],
      "metadata": {
        "id": "twUCVyXJp3Wf"
      },
      "execution_count": null,
      "outputs": []
    },
    {
      "cell_type": "code",
      "source": [
        "suspicious_selector = ipywidgets.Dropdown(\n",
        "    options=('Путин Владимир Владимирович', 'Даванков Владислав Андреевич', 'Слуцкий Леонид Эдуардович', 'Харитонов Николай Михайлович'),\n",
        "    index=0,\n",
        "    value='Путин Владимир Владимирович',\n",
        "    layout={'width': '700px'},\n",
        "    continuous_update = False\n",
        ")\n",
        "ipywidgets.interact(\n",
        "    Suspicious_values, candidat = suspicious_selector\n",
        ")"
      ],
      "metadata": {
        "id": "3DMWW2tZuLty"
      },
      "execution_count": null,
      "outputs": []
    },
    {
      "cell_type": "markdown",
      "source": [
        "Как мы видим, хотя некоторые пики и пристутсвуют на графике, сложно говорить о наличии так называемой Пилы.\n",
        "Пики обладают небольшой частносьтью. А круглые числы зачастую объясняются небольшим числом избирателей на участке."
      ],
      "metadata": {
        "id": "bR9VH_RaqK8t"
      }
    },
    {
      "cell_type": "markdown",
      "source": [
        "## Гипотеза № 3\n",
        "Машинковое обучение"
      ],
      "metadata": {
        "id": "8NLY5orfrJa4"
      }
    },
    {
      "cell_type": "markdown",
      "source": [
        "Результат оппозиционных кандидатов больше в более населённых и богатых территориях."
      ],
      "metadata": {
        "id": "Xpa4Y7e3ttUG"
      }
    },
    {
      "cell_type": "markdown",
      "source": [
        "Я попытаюсь выяснить можно ли по ВП региона явке и числу зарегестрированных избирателей на участке предсказать результат каждого кандидата"
      ],
      "metadata": {
        "id": "2YuEBuZfSR2x"
      }
    },
    {
      "cell_type": "markdown",
      "source": [
        "Функция, тренирующая модель. Также она выдаёт её характеристки."
      ],
      "metadata": {
        "id": "OgM5G4Dzt-Ee"
      }
    },
    {
      "cell_type": "code",
      "source": [
        "def train (candidat):\n",
        "  target_column = f'{candidat} (%)'\n",
        "\n",
        "  # Select the necessary columns for prediction\n",
        "  columns_needed = ['Число избирателей, включенных в список избирателей', 'явка (%)', 'GRDP', target_column]\n",
        "  data = elections_uik[columns_needed]\n",
        "\n",
        "    # Drop rows with any missing values\n",
        "  data.dropna(inplace=True)\n",
        "\n",
        "  # Separate the features and the target variable\n",
        "  x = data.drop(columns=[target_column])\n",
        "  y = data[target_column]\n",
        "\n",
        "  # Split the data into training and testing sets\n",
        "  x_train, x_test, y_train, y_test = train_test_split(x, y, test_size=0.2, random_state=42)\n",
        "\n",
        "  # Train a predictive model\n",
        "  model = LinearRegression()\n",
        "  model.fit(x_train, y_train)\n",
        "\n",
        "  # Evaluate the model\n",
        "  y_pred = model.predict(x_test)\n",
        "  mse = mean_squared_error(y_test, y_pred)\n",
        "  r2 = r2_score(y_test, y_pred)\n",
        "  print(f'Mean Squared Error: {mse}')\n",
        "  print(f'R^2 Score: {r2}')\n",
        "  print(f'Model Coefficients: {model.coef_}')\n",
        "  return model"
      ],
      "metadata": {
        "id": "aCRuMgWwTy80"
      },
      "execution_count": null,
      "outputs": []
    },
    {
      "cell_type": "markdown",
      "source": [
        "Функция, выдающая предсказание, на оснвое модели"
      ],
      "metadata": {
        "id": "l-m5dnlQuBiH"
      }
    },
    {
      "cell_type": "code",
      "source": [
        "def prediction (population, come, GRDP, candidat):\n",
        "  new_data = {\n",
        "    'Число избирателей, включенных в список избирателей': [population],\n",
        "    'явка (%)': [come],\n",
        "    'GRDP': [GRDP]\n",
        "    }\n",
        "  new_df = pd.DataFrame(new_data)\n",
        "  model = train(candidat)\n",
        "  predictions = model.predict(new_df)\n",
        "  return predictions\n",
        "\n"
      ],
      "metadata": {
        "id": "WRqyQ-xvmlog"
      },
      "execution_count": null,
      "outputs": []
    },
    {
      "cell_type": "code",
      "source": [
        "prediction(5000, 80, 80000,'Путин Владимир Владимирович')"
      ],
      "metadata": {
        "id": "qUSLkGONdLs6"
      },
      "execution_count": null,
      "outputs": []
    },
    {
      "cell_type": "markdown",
      "source": [
        "Считаем дисперсию для оценки эффектвиности оценки. Она больше, чем MSE, а знчит оценка достатчоно эффективна."
      ],
      "metadata": {
        "id": "1xi1Qh2nwTdn"
      }
    },
    {
      "cell_type": "code",
      "source": [
        "np.var(elections_uik['Путин Владимир Владимирович (%)'])"
      ],
      "metadata": {
        "id": "6iw9TuKlagwD"
      },
      "execution_count": null,
      "outputs": []
    },
    {
      "cell_type": "markdown",
      "source": [
        "Можно заметить, что предсказанный результат президента растёт от явки и снижается от ВРП и численности избирателей. Результат оппозиционных результатов, наоборот падает от явки и растёт от ВРП и падает от явки. =>\n",
        "Гипотеза подтверждена"
      ],
      "metadata": {
        "id": "jzE0PLxws8JA"
      }
    },
    {
      "cell_type": "markdown",
      "source": [
        "## Гипотеза №4"
      ],
      "metadata": {
        "id": "TpnFfB3qu5qe"
      }
    },
    {
      "cell_type": "markdown",
      "source": [
        "Результаты кандидатов значительно отличаются от региона к региону."
      ],
      "metadata": {
        "id": "qdLn4t2zu_Br"
      }
    },
    {
      "cell_type": "code",
      "source": [
        "elections_reg['region'] = elections_reg.index"
      ],
      "metadata": {
        "id": "3bmqgbwculx0"
      },
      "execution_count": null,
      "outputs": []
    },
    {
      "cell_type": "markdown",
      "source": [
        "Функция рисует карту."
      ],
      "metadata": {
        "id": "JVWcd9QyvwTm"
      }
    },
    {
      "cell_type": "code",
      "execution_count": null,
      "metadata": {
        "id": "SRYYbMmG0me-"
      },
      "outputs": [],
      "source": [
        "def elections_map (candidat):\n",
        "  RU_Coordinates = (58, 105)\n",
        "  Rus = folium.Map(location=RU_Coordinates, zoom_start=3)\n",
        "  folium.Choropleth(\n",
        "    geo_data = SVO,\n",
        "    data = elections_reg ,\n",
        "    columns=[\"region\", f\"{candidat} (%)\"],\n",
        "    key_on = \"feature.id\",\n",
        "    fill_color = \"YlGnBu\",\n",
        "    highlight = True,\n",
        "    legend_name = f'{candidat} %'\n",
        "  ).add_to(Rus)\n",
        "  return Rus"
      ]
    },
    {
      "cell_type": "markdown",
      "source": [
        "Кнопочка для выбора кандидата, по которому строится карта"
      ],
      "metadata": {
        "id": "-uNFj7DAvr_R"
      }
    },
    {
      "cell_type": "code",
      "execution_count": null,
      "metadata": {
        "id": "DR473oHhV-0p"
      },
      "outputs": [],
      "source": [
        "candidat_selector = ipywidgets.Dropdown(\n",
        "    options=('Путин Владимир Владимирович', 'Даванков Владислав Андреевич', 'Слуцкий Леонид Эдуардович', 'Харитонов Николай Михайлович'),\n",
        "    index=0,\n",
        "    value='Путин Владимир Владимирович',\n",
        "    layout={'width': '700px'},\n",
        "    continuous_update = False\n",
        ")\n",
        "ipywidgets.interact(\n",
        "    elections_map, candidat = candidat_selector\n",
        ")"
      ]
    },
    {
      "cell_type": "markdown",
      "source": [
        "Как мы видим на карте, результаты кандидатов значтельно отличаются от резльтатов в других регионах. Например по каким-то причинам в Кузбассе и Туве процент В.В Путина значительно выше, чем в большинстве регионов."
      ],
      "metadata": {
        "id": "Fxhk4hZSvTeR"
      }
    }
  ],
  "metadata": {
    "colab": {
      "provenance": [],
      "collapsed_sections": [
        "wjFNiEFwDkg5",
        "cKiKbk8uF1qm",
        "GJT4M-dkV_lZ",
        "tPfQoQ0sP884",
        "mcZK_-W9X2y8"
      ]
    },
    "kernelspec": {
      "display_name": "Python 3",
      "name": "python3"
    },
    "language_info": {
      "name": "python"
    }
  },
  "nbformat": 4,
  "nbformat_minor": 0
}